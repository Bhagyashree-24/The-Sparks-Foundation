{
 "cells": [
  {
   "cell_type": "markdown",
   "metadata": {},
   "source": [
    "# Simple Linear Regression:Predicting the Scores w.r.t. No of Hours\n",
    "\n",
    "\n",
    "<b>Step1 : Importing Student dataset into.csv file and Check the structure of the dataset\n"
   ]
  },
  {
   "cell_type": "code",
   "execution_count": 21,
   "metadata": {},
   "outputs": [
    {
     "name": "stdout",
     "output_type": "stream",
     "text": [
      "'data.frame':\t25 obs. of  2 variables:\n",
      " $ Hours : num  2.5 5.1 3.2 8.5 3.5 1.5 9.2 5.5 8.3 2.7 ...\n",
      " $ Scores: int  21 47 27 75 30 20 88 60 81 25 ...\n"
     ]
    },
    {
     "data": {
      "text/plain": [
       "     Hours           Scores     \n",
       " Min.   :1.100   Min.   :17.00  \n",
       " 1st Qu.:2.700   1st Qu.:30.00  \n",
       " Median :4.800   Median :47.00  \n",
       " Mean   :5.012   Mean   :51.48  \n",
       " 3rd Qu.:7.400   3rd Qu.:75.00  \n",
       " Max.   :9.200   Max.   :95.00  "
      ]
     },
     "metadata": {},
     "output_type": "display_data"
    }
   ],
   "source": [
    "Student = read.csv(\"~/Student.txt\")\n",
    "str(Student)\n",
    "summary(Student)"
   ]
  },
  {
   "cell_type": "markdown",
   "metadata": {},
   "source": [
    "\n",
    "<b>Step2: Splitting Dataset into Train and Test\n",
    "    "
   ]
  },
  {
   "cell_type": "code",
   "execution_count": 138,
   "metadata": {},
   "outputs": [],
   "source": [
    "set.seed(2)\n",
    "split=sample.split(Student,SplitRatio = 0.80)\n",
    "train=subset(Student,split=\"True\")\n",
    "test=subset(Student,split=\"False\")"
   ]
  },
  {
   "cell_type": "code",
   "execution_count": 27,
   "metadata": {},
   "outputs": [],
   "source": [
    "#data has been divided into two part i.e.test and train for the prediction so data split randomly with the help of \n",
    "#set.seed command by giving a splitratio so here in this dataset 70 % data went to train set and 20 % went to test set"
   ]
  },
  {
   "cell_type": "markdown",
   "metadata": {},
   "source": [
    "\n",
    "<b>Step3: Creating Regression model (y=Scores,x=Hours)\n"
   ]
  },
  {
   "cell_type": "code",
   "execution_count": 23,
   "metadata": {},
   "outputs": [
    {
     "data": {
      "text/plain": [
       "\n",
       "Call:\n",
       "lm(formula = Scores ~ Hours, data = train)\n",
       "\n",
       "Residuals:\n",
       "    Min      1Q  Median      3Q     Max \n",
       "-10.578  -5.340   1.839   4.593   7.265 \n",
       "\n",
       "Coefficients:\n",
       "            Estimate Std. Error t value Pr(>|t|)    \n",
       "(Intercept)   2.4837     2.5317   0.981    0.337    \n",
       "Hours         9.7758     0.4529  21.583   <2e-16 ***\n",
       "---\n",
       "Signif. codes:  0 '***' 0.001 '**' 0.01 '*' 0.05 '.' 0.1 ' ' 1\n",
       "\n",
       "Residual standard error: 5.603 on 23 degrees of freedom\n",
       "Multiple R-squared:  0.9529,\tAdjusted R-squared:  0.9509 \n",
       "F-statistic: 465.8 on 1 and 23 DF,  p-value: < 2.2e-16\n"
      ]
     },
     "metadata": {},
     "output_type": "display_data"
    }
   ],
   "source": [
    "model=lm(Scores~Hours,data = train)\n",
    "summary(model)"
   ]
  },
  {
   "cell_type": "markdown",
   "metadata": {},
   "source": [
    "\n",
    "\n",
    "<b>Step4: Checking the Actual and predicted Score value \n"
   ]
  },
  {
   "cell_type": "code",
   "execution_count": 24,
   "metadata": {},
   "outputs": [
    {
     "data": {
      "text/html": [
       "<table>\n",
       "<caption>A data.frame: 25 × 3</caption>\n",
       "<thead>\n",
       "\t<tr><th></th><th scope=col>Hours</th><th scope=col>Scores</th><th scope=col>predict_result</th></tr>\n",
       "\t<tr><th></th><th scope=col>&lt;dbl&gt;</th><th scope=col>&lt;int&gt;</th><th scope=col>&lt;dbl&gt;</th></tr>\n",
       "</thead>\n",
       "<tbody>\n",
       "\t<tr><th scope=row>1</th><td>2.5</td><td>21</td><td>26.92318</td></tr>\n",
       "\t<tr><th scope=row>2</th><td>5.1</td><td>47</td><td>52.34027</td></tr>\n",
       "\t<tr><th scope=row>3</th><td>3.2</td><td>27</td><td>33.76624</td></tr>\n",
       "\t<tr><th scope=row>4</th><td>8.5</td><td>75</td><td>85.57800</td></tr>\n",
       "\t<tr><th scope=row>5</th><td>3.5</td><td>30</td><td>36.69899</td></tr>\n",
       "\t<tr><th scope=row>6</th><td>1.5</td><td>20</td><td>17.14738</td></tr>\n",
       "\t<tr><th scope=row>7</th><td>9.2</td><td>88</td><td>92.42106</td></tr>\n",
       "\t<tr><th scope=row>8</th><td>5.5</td><td>60</td><td>56.25059</td></tr>\n",
       "\t<tr><th scope=row>9</th><td>8.3</td><td>81</td><td>83.62284</td></tr>\n",
       "\t<tr><th scope=row>10</th><td>2.7</td><td>25</td><td>28.87834</td></tr>\n",
       "\t<tr><th scope=row>11</th><td>7.7</td><td>85</td><td>77.75736</td></tr>\n",
       "\t<tr><th scope=row>12</th><td>5.9</td><td>62</td><td>60.16091</td></tr>\n",
       "\t<tr><th scope=row>13</th><td>4.5</td><td>41</td><td>46.47479</td></tr>\n",
       "\t<tr><th scope=row>14</th><td>3.3</td><td>42</td><td>34.74382</td></tr>\n",
       "\t<tr><th scope=row>15</th><td>1.1</td><td>17</td><td>13.23706</td></tr>\n",
       "\t<tr><th scope=row>16</th><td>8.9</td><td>95</td><td>89.48832</td></tr>\n",
       "\t<tr><th scope=row>17</th><td>2.5</td><td>30</td><td>26.92318</td></tr>\n",
       "\t<tr><th scope=row>18</th><td>1.9</td><td>24</td><td>21.05770</td></tr>\n",
       "\t<tr><th scope=row>19</th><td>6.1</td><td>67</td><td>62.11607</td></tr>\n",
       "\t<tr><th scope=row>20</th><td>7.4</td><td>69</td><td>74.82462</td></tr>\n",
       "\t<tr><th scope=row>21</th><td>2.7</td><td>30</td><td>28.87834</td></tr>\n",
       "\t<tr><th scope=row>22</th><td>4.8</td><td>54</td><td>49.40753</td></tr>\n",
       "\t<tr><th scope=row>23</th><td>3.8</td><td>35</td><td>39.63173</td></tr>\n",
       "\t<tr><th scope=row>24</th><td>6.9</td><td>76</td><td>69.93672</td></tr>\n",
       "\t<tr><th scope=row>25</th><td>7.8</td><td>86</td><td>78.73494</td></tr>\n",
       "</tbody>\n",
       "</table>\n"
      ],
      "text/latex": [
       "A data.frame: 25 × 3\n",
       "\\begin{tabular}{r|lll}\n",
       "  & Hours & Scores & predict\\_result\\\\\n",
       "  & <dbl> & <int> & <dbl>\\\\\n",
       "\\hline\n",
       "\t1 & 2.5 & 21 & 26.92318\\\\\n",
       "\t2 & 5.1 & 47 & 52.34027\\\\\n",
       "\t3 & 3.2 & 27 & 33.76624\\\\\n",
       "\t4 & 8.5 & 75 & 85.57800\\\\\n",
       "\t5 & 3.5 & 30 & 36.69899\\\\\n",
       "\t6 & 1.5 & 20 & 17.14738\\\\\n",
       "\t7 & 9.2 & 88 & 92.42106\\\\\n",
       "\t8 & 5.5 & 60 & 56.25059\\\\\n",
       "\t9 & 8.3 & 81 & 83.62284\\\\\n",
       "\t10 & 2.7 & 25 & 28.87834\\\\\n",
       "\t11 & 7.7 & 85 & 77.75736\\\\\n",
       "\t12 & 5.9 & 62 & 60.16091\\\\\n",
       "\t13 & 4.5 & 41 & 46.47479\\\\\n",
       "\t14 & 3.3 & 42 & 34.74382\\\\\n",
       "\t15 & 1.1 & 17 & 13.23706\\\\\n",
       "\t16 & 8.9 & 95 & 89.48832\\\\\n",
       "\t17 & 2.5 & 30 & 26.92318\\\\\n",
       "\t18 & 1.9 & 24 & 21.05770\\\\\n",
       "\t19 & 6.1 & 67 & 62.11607\\\\\n",
       "\t20 & 7.4 & 69 & 74.82462\\\\\n",
       "\t21 & 2.7 & 30 & 28.87834\\\\\n",
       "\t22 & 4.8 & 54 & 49.40753\\\\\n",
       "\t23 & 3.8 & 35 & 39.63173\\\\\n",
       "\t24 & 6.9 & 76 & 69.93672\\\\\n",
       "\t25 & 7.8 & 86 & 78.73494\\\\\n",
       "\\end{tabular}\n"
      ],
      "text/markdown": [
       "\n",
       "A data.frame: 25 × 3\n",
       "\n",
       "| <!--/--> | Hours &lt;dbl&gt; | Scores &lt;int&gt; | predict_result &lt;dbl&gt; |\n",
       "|---|---|---|---|\n",
       "| 1 | 2.5 | 21 | 26.92318 |\n",
       "| 2 | 5.1 | 47 | 52.34027 |\n",
       "| 3 | 3.2 | 27 | 33.76624 |\n",
       "| 4 | 8.5 | 75 | 85.57800 |\n",
       "| 5 | 3.5 | 30 | 36.69899 |\n",
       "| 6 | 1.5 | 20 | 17.14738 |\n",
       "| 7 | 9.2 | 88 | 92.42106 |\n",
       "| 8 | 5.5 | 60 | 56.25059 |\n",
       "| 9 | 8.3 | 81 | 83.62284 |\n",
       "| 10 | 2.7 | 25 | 28.87834 |\n",
       "| 11 | 7.7 | 85 | 77.75736 |\n",
       "| 12 | 5.9 | 62 | 60.16091 |\n",
       "| 13 | 4.5 | 41 | 46.47479 |\n",
       "| 14 | 3.3 | 42 | 34.74382 |\n",
       "| 15 | 1.1 | 17 | 13.23706 |\n",
       "| 16 | 8.9 | 95 | 89.48832 |\n",
       "| 17 | 2.5 | 30 | 26.92318 |\n",
       "| 18 | 1.9 | 24 | 21.05770 |\n",
       "| 19 | 6.1 | 67 | 62.11607 |\n",
       "| 20 | 7.4 | 69 | 74.82462 |\n",
       "| 21 | 2.7 | 30 | 28.87834 |\n",
       "| 22 | 4.8 | 54 | 49.40753 |\n",
       "| 23 | 3.8 | 35 | 39.63173 |\n",
       "| 24 | 6.9 | 76 | 69.93672 |\n",
       "| 25 | 7.8 | 86 | 78.73494 |\n",
       "\n"
      ],
      "text/plain": [
       "   Hours Scores predict_result\n",
       "1  2.5   21     26.92318      \n",
       "2  5.1   47     52.34027      \n",
       "3  3.2   27     33.76624      \n",
       "4  8.5   75     85.57800      \n",
       "5  3.5   30     36.69899      \n",
       "6  1.5   20     17.14738      \n",
       "7  9.2   88     92.42106      \n",
       "8  5.5   60     56.25059      \n",
       "9  8.3   81     83.62284      \n",
       "10 2.7   25     28.87834      \n",
       "11 7.7   85     77.75736      \n",
       "12 5.9   62     60.16091      \n",
       "13 4.5   41     46.47479      \n",
       "14 3.3   42     34.74382      \n",
       "15 1.1   17     13.23706      \n",
       "16 8.9   95     89.48832      \n",
       "17 2.5   30     26.92318      \n",
       "18 1.9   24     21.05770      \n",
       "19 6.1   67     62.11607      \n",
       "20 7.4   69     74.82462      \n",
       "21 2.7   30     28.87834      \n",
       "22 4.8   54     49.40753      \n",
       "23 3.8   35     39.63173      \n",
       "24 6.9   76     69.93672      \n",
       "25 7.8   86     78.73494      "
      ]
     },
     "metadata": {},
     "output_type": "display_data"
    }
   ],
   "source": [
    "predict_result=predict(model,test)\n",
    "result=cbind(test,predict_result)\n",
    "result"
   ]
  },
  {
   "cell_type": "code",
   "execution_count": 20,
   "metadata": {},
   "outputs": [],
   "source": [
    "#This model gives  95% accuracy which means 5% is not predicted correctly "
   ]
  },
  {
   "cell_type": "markdown",
   "metadata": {},
   "source": [
    "\n",
    "<b>Step5: Creating a Scatter plot to see the scatter data of Scores and Hours\n"
   ]
  },
  {
   "cell_type": "code",
   "execution_count": 8,
   "metadata": {},
   "outputs": [
    {
     "data": {
      "image/png": "[encoded data removed]",
      "text/plain": [
       "Plot with title \"Scores vs Hours\""
      ]
     },
     "metadata": {
      "image/png": {
       "height": 420,
       "width": 420
      }
     },
     "output_type": "display_data"
    }
   ],
   "source": [
    "#Define Dependent and Independent Variable\n",
    "\n",
    "y=Student$Scores\n",
    "x=Student$Hours\n",
    "plot(x,y,ylab = \"Scores\",xlab = \"No.of Hours\",main = \"Scores vs Hours\",col=\"Red\")\n"
   ]
  },
  {
   "cell_type": "markdown",
   "metadata": {},
   "source": [
    "<b>Step6: Plotting Best fit line\n"
   ]
  },
  {
   "cell_type": "code",
   "execution_count": 9,
   "metadata": {},
   "outputs": [
    {
     "data": {
      "image/png": "[encoded data removed]",
      "text/plain": [
       "Plot with title \"Scores vs Hours\""
      ]
     },
     "metadata": {
      "image/png": {
       "height": 420,
       "width": 420
      }
     },
     "output_type": "display_data"
    }
   ],
   "source": [
    "plot(x,y,ylab = \"Scores\",xlab = \"No.of Hours\",main = \"Scores vs Hours\",col=\"Red\")\n",
    "abline(lm(y~x),col=\"Blue\")"
   ]
  },
  {
   "cell_type": "markdown",
   "metadata": {},
   "source": [
    "<b>Step7: Accuracy of the Model\n"
   ]
  },
  {
   "cell_type": "code",
   "execution_count": 25,
   "metadata": {},
   "outputs": [
    {
     "data": {
      "text/html": [
       "722.068262731137"
      ],
      "text/latex": [
       "722.068262731137"
      ],
      "text/markdown": [
       "722.068262731137"
      ],
      "text/plain": [
       "[1] 722.0683"
      ]
     },
     "metadata": {},
     "output_type": "display_data"
    }
   ],
   "source": [
    "#Calculating Sum of Error of Square\n",
    "\n",
    "SSE=sum((test$Scores-predict_result)^2)\n",
    "SSE\n"
   ]
  },
  {
   "cell_type": "code",
   "execution_count": 26,
   "metadata": {},
   "outputs": [
    {
     "data": {
      "text/html": [
       "15346.24"
      ],
      "text/latex": [
       "15346.24"
      ],
      "text/markdown": [
       "15346.24"
      ],
      "text/plain": [
       "[1] 15346.24"
      ]
     },
     "metadata": {},
     "output_type": "display_data"
    }
   ],
   "source": [
    "#calculating Total sum of square of Error\n",
    "\n",
    "SST=sum((test$Scores-mean(Student$Scores))^2)\n",
    "SST\n"
   ]
  },
  {
   "cell_type": "code",
   "execution_count": 30,
   "metadata": {},
   "outputs": [
    {
     "data": {
      "text/html": [
       "0.952948196904836"
      ],
      "text/latex": [
       "0.952948196904836"
      ],
      "text/markdown": [
       "0.952948196904836"
      ],
      "text/plain": [
       "[1] 0.9529482"
      ]
     },
     "metadata": {},
     "output_type": "display_data"
    }
   ],
   "source": [
    "#Calculating R^2 value\n",
    "\n",
    "r=1-(SSE/SST)\n",
    "r\n"
   ]
  },
  {
   "cell_type": "markdown",
   "metadata": {},
   "source": [
    "<b>Output\n",
    "\n",
    "Accuracy of the Model is:95.29%\n",
    "\n",
    "For 9.2 hours prdicted Score will be 92.42%\n"
   ]
  },
  {
   "cell_type": "code",
   "execution_count": 79,
   "metadata": {},
   "outputs": [],
   "source": [
    "library(ggplot2)"
   ]
  },
  {
   "cell_type": "code",
   "execution_count": 137,
   "metadata": {},
   "outputs": [
    {
     "data": {
      "image/png": "[encoded data removed]",
      "text/plain": [
       "Plot with title \"Highest Score\""
      ]
     },
     "metadata": {
      "image/png": {
       "height": 420,
       "width": 420
      }
     },
     "output_type": "display_data"
    }
   ],
   "source": [
    "barplot(Student$Scores,xlab=\"Scores\",ylab=\"Count\",\n",
    "        main=\"Highest Score\",col=\"Blue\",ylim=c(0,100))"
   ]
  },
  {
   "cell_type": "code",
   "execution_count": 132,
   "metadata": {},
   "outputs": [
    {
     "data": {
      "image/png": "[encoded data removed]",
      "text/plain": [
       "Plot with title \"Highest Score\""
      ]
     },
     "metadata": {
      "image/png": {
       "height": 420,
       "width": 420
      }
     },
     "output_type": "display_data"
    }
   ],
   "source": [
    "barplot(Student$Hours,xlab=\"Hours\",ylab=\"Count\",\n",
    "        main=\"Highest Hours\",col=\"Yellow\",ylim=c(0,10))\n"
   ]
  },
  {
   "cell_type": "code",
   "execution_count": 146,
   "metadata": {},
   "outputs": [
    {
     "data": {
      "image/png": "[encoded data removed]",
      "text/plain": [
       "plot without title"
      ]
     },
     "metadata": {
      "image/png": {
       "height": 420,
       "width": 420
      }
     },
     "output_type": "display_data"
    }
   ],
   "source": [
    "plot(result,col=\"blue\")"
   ]
  },
  {
   "cell_type": "markdown",
   "metadata": {},
   "source": [
    "<b> Done"
   ]
  },
  {
   "cell_type": "code",
   "execution_count": null,
   "metadata": {},
   "outputs": [],
   "source": []
  },
  {
   "cell_type": "code",
   "execution_count": null,
   "metadata": {},
   "outputs": [],
   "source": []
  }
 ],
 "metadata": {
  "kernelspec": {
   "display_name": "R",
   "language": "R",
   "name": "ir"
  },
  "language_info": {
   "codemirror_mode": "r",
   "file_extension": ".r",
   "mimetype": "text/x-r-source",
   "name": "R",
   "pygments_lexer": "r",
   "version": "4.0.1"
  }
 },
 "nbformat": 4,
 "nbformat_minor": 4
}
